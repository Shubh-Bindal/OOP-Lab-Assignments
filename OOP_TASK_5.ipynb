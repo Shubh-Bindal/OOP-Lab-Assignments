{
  "nbformat": 4,
  "nbformat_minor": 0,
  "metadata": {
    "colab": {
      "name": "OOP TASK 5.ipynb",
      "provenance": [],
      "authorship_tag": "ABX9TyM+2G1TKhgLxudAuZijApUw",
      "include_colab_link": true
    },
    "kernelspec": {
      "name": "python3",
      "display_name": "Python 3"
    },
    "language_info": {
      "name": "python"
    }
  },
  "cells": [
    {
      "cell_type": "markdown",
      "metadata": {
        "id": "view-in-github",
        "colab_type": "text"
      },
      "source": [
        "<a href=\"https://colab.research.google.com/github/Shubh-Bindal/OOP-Lab-Assignments/blob/main/OOP_TASK_5.ipynb\" target=\"_parent\"><img src=\"https://colab.research.google.com/assets/colab-badge.svg\" alt=\"Open In Colab\"/></a>"
      ]
    },
    {
      "cell_type": "markdown",
      "metadata": {
        "id": "8Y-6ghu4Ej5h"
      },
      "source": [
        "\n",
        "#OOP TASK 5\n",
        "This is the solution sheet for OOP LAB TASK 5.\n",
        "\n",
        "It has been completed under the guidance of Shankar Biradar sir and has been submitted by :\n",
        "\n",
        "Shubh Bindal\n",
        "\n",
        "20BCS121"
      ]
    },
    {
      "cell_type": "code",
      "metadata": {
        "colab": {
          "base_uri": "https://localhost:8080/"
        },
        "id": "4uZCFTpbEMMh",
        "outputId": "cd121636-deed-4235-de2c-d5755c800d8a"
      },
      "source": [
        "#Problem 1\n",
        "from math import pi\n",
        "\n",
        "class Shape:\n",
        "    def area(self):\n",
        "        pass\n",
        "\n",
        "\n",
        "class Circle(Shape):\n",
        "    def __init__(self, radius):\n",
        "        self.radius = radius\n",
        "\n",
        "    def area(self):\n",
        "        return (pi * self.radius * self.radius)\n",
        "\n",
        "\n",
        "class Square(Shape):\n",
        "    def __init__(self, side):\n",
        "        self.side = side\n",
        "\n",
        "    def area(self):\n",
        "        return (self.side * self.side)\n",
        "\n",
        "\n",
        "class Rectangle(Shape):\n",
        "    def __init__(self, length, breadth):\n",
        "        self.length = length\n",
        "        self.breadth = breadth\n",
        "\n",
        "    def area(self):\n",
        "        return (self.length * self.breadth)\n",
        "\n",
        "\n",
        "c1 = Circle(7)\n",
        "print(f\"Area of Circle : {round(c1.area(), 2)}\")\n",
        "\n",
        "s1 = Square(5)\n",
        "print(f\"Area of Square : {s1.area()}\")\n",
        "\n",
        "r1 = Rectangle(10, 5)\n",
        "print(f\"Area of Rectangle : {r1.area()}\")"
      ],
      "execution_count": 1,
      "outputs": [
        {
          "output_type": "stream",
          "name": "stdout",
          "text": [
            "Area of Circle : 153.94\n",
            "Area of Square : 25\n",
            "Area of Rectangle : 50\n"
          ]
        }
      ]
    },
    {
      "cell_type": "code",
      "metadata": {
        "colab": {
          "base_uri": "https://localhost:8080/"
        },
        "id": "F382QQNkR25X",
        "outputId": "77ea7907-6da1-4925-eda8-28b67229ae23"
      },
      "source": [
        "#problem 2\n",
        "class Travel:\n",
        "    def __init__(self, passengers, distance, mode):\n",
        "        self.__passengers = passengers\n",
        "        self.distance = distance\n",
        "        self.mode = mode\n",
        "\n",
        "    def getPassengers(self):\n",
        "        return self.__passengers\n",
        "\n",
        "class Train(Travel):\n",
        "    def costOfTrip(self):\n",
        "        self.costPerPerson = 60\n",
        "        return (self.getPassengers() * self.costPerPerson)\n",
        "\n",
        "\n",
        "class Bus(Travel):\n",
        "    def costOfTrip(self):\n",
        "        self.costPerPerson = 100\n",
        "        return (self.getPassengers() * self.costPerPerson)\n",
        "\n",
        "\n",
        "t1 = Train(5, 60, \"Train\")\n",
        "print(f\"Cost to travel from Train : {t1.costOfTrip()}\")\n",
        "\n",
        "b1 = Bus(5, 60, \"Bus\")\n",
        "print(f\"Cost to travel from Bus : {b1.costOfTrip()}\") "
      ],
      "execution_count": 2,
      "outputs": [
        {
          "output_type": "stream",
          "name": "stdout",
          "text": [
            "Cost to travel from Train : 300\n",
            "Cost to travel from Bus : 500\n"
          ]
        }
      ]
    },
    {
      "cell_type": "code",
      "metadata": {
        "colab": {
          "base_uri": "https://localhost:8080/"
        },
        "id": "pwRRthy1SX_D",
        "outputId": "7fbd4845-513d-4ac9-82fc-c1b3c3567f02"
      },
      "source": [
        "#problem 3\n",
        "\n",
        "def swapModels(obj1, obj2):\n",
        "    obj1.modelNumber, obj2.modelNumber = obj2.modelNumber, obj1.modelNumber\n",
        "\n",
        "class Car:\n",
        "    def __init__(self, modelNumber):\n",
        "        self.modelNumber = modelNumber\n",
        "\n",
        "c1 = Car(\"1AC2021\")\n",
        "c2 = Car(\"3FG2018\")\n",
        "\n",
        "print(f'''Model numbers before swapping \n",
        "C1's Model Number : {c1.modelNumber} \n",
        "C2's Model Number : {c2.modelNumber}''')\n",
        "\n",
        "swapModels(c1, c2)\n",
        "\n",
        "print(f'''\\nModel numbers after swapping \n",
        "C1's Model Number : {c1.modelNumber} \n",
        "C2's Model Number : {c2.modelNumber}''')"
      ],
      "execution_count": 3,
      "outputs": [
        {
          "output_type": "stream",
          "name": "stdout",
          "text": [
            "Model numbers before swapping \n",
            "C1's Model Number : 1AC2021 \n",
            "C2's Model Number : 3FG2018\n",
            "\n",
            "Model numbers after swapping \n",
            "C1's Model Number : 3FG2018 \n",
            "C2's Model Number : 1AC2021\n"
          ]
        }
      ]
    }
  ]
}