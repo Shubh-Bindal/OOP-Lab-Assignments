{
  "nbformat": 4,
  "nbformat_minor": 0,
  "metadata": {
    "colab": {
      "name": "OOP TASK  4.ipynb",
      "provenance": [],
      "authorship_tag": "ABX9TyMNnxxgouvVSwjSz1+BgER6",
      "include_colab_link": true
    },
    "kernelspec": {
      "name": "python3",
      "display_name": "Python 3"
    },
    "language_info": {
      "name": "python"
    }
  },
  "cells": [
    {
      "cell_type": "markdown",
      "metadata": {
        "id": "view-in-github",
        "colab_type": "text"
      },
      "source": [
        "<a href=\"https://colab.research.google.com/github/Shubh-Bindal/OOP-Lab-Assignments/blob/main/OOP_TASK_4.ipynb\" target=\"_parent\"><img src=\"https://colab.research.google.com/assets/colab-badge.svg\" alt=\"Open In Colab\"/></a>"
      ]
    },
    {
      "cell_type": "markdown",
      "metadata": {
        "id": "S3kUXkM-LhoY"
      },
      "source": [
        " #                               **OOP TASK 4**\n",
        "\n",
        "This is the solution sheet for OOP LAB TASK 4.\n",
        "\n",
        "It has been completed under the guidance of Shankar Biradar sir and has been submitted by :\n",
        "\n",
        "Shubh Bindal\n",
        "\n",
        "20BCS121"
      ]
    },
    {
      "cell_type": "code",
      "metadata": {
        "colab": {
          "base_uri": "https://localhost:8080/"
        },
        "id": "qgTBJ9W7LDtY",
        "outputId": "f930438e-d96d-4f35-e066-f2fb16c95665"
      },
      "source": [
        "#solution for 1st question\n",
        "class Node:\n",
        "    def __init__(self, data):\n",
        "        self.data = data\n",
        "        self.next = None\n",
        "    \n",
        "    def __del__(self):\n",
        "        print(f\"Element {self.data} deleted\")\n",
        "\n",
        "class Stack(Node):\n",
        "    def __init__(self):\n",
        "        self.head = Node(None)\n",
        "        self.size = 0\n",
        "\n",
        "    def isEmpty(self):\n",
        "        return self.size == 0\n",
        "\n",
        "    def push(self, data):\n",
        "        temp = Node(data)\n",
        "        temp.next = self.head.next\n",
        "        self.head.next = temp\n",
        "        self.size += 1\n",
        "    \n",
        "    def pop(self):\n",
        "        if self.isEmpty():\n",
        "            print(\"Stack Empty\")\n",
        "        delete = self.head.next\n",
        "        self.head.next = self.head.next.next\n",
        "        self.size -= 1\n",
        "        return delete.data\n",
        "\n",
        "    def displayStack(self):\n",
        "        iter = self.head.next\n",
        "        print(\"Stack : \", end=\"\")\n",
        "        while iter:\n",
        "            print(iter.data, end=\"\\t\")\n",
        "            iter = iter.next\n",
        "        print()\n",
        "\n",
        "    def __del__(self):\n",
        "        if not self.isEmpty():\n",
        "            iter = self.head\n",
        "            while iter:\n",
        "                temp = iter.next\n",
        "                del iter\n",
        "                self.size -= 1\n",
        "                iter = temp              \n",
        "\n",
        "s = Stack()\n",
        "for i in range(1, 11):\n",
        "    s.push(i)\n",
        "\n",
        "s.displayStack()\n",
        "\n",
        "for i in range(1, 3):\n",
        "    delete = s.pop()\n",
        "    print(f\"Popped element : {delete}\")\n",
        "\n",
        "s.displayStack()"
      ],
      "execution_count": null,
      "outputs": [
        {
          "output_type": "stream",
          "name": "stdout",
          "text": [
            "Element None deleted\n",
            "Element 8 deleted\n",
            "Element 7 deleted\n",
            "Element 6 deleted\n",
            "Element 5 deleted\n",
            "Element 4 deleted\n",
            "Element 3 deleted\n",
            "Element 2 deleted\n",
            "Element 1 deleted\n",
            "Stack : 10\t9\t8\t7\t6\t5\t4\t3\t2\t1\t\n",
            "Element 10 deleted\n",
            "Popped element : 10\n",
            "Element 9 deleted\n",
            "Popped element : 9\n",
            "Stack : 8\t7\t6\t5\t4\t3\t2\t1\t\n"
          ]
        }
      ]
    },
    {
      "cell_type": "code",
      "metadata": {
        "colab": {
          "base_uri": "https://localhost:8080/"
        },
        "id": "ZPdF2763LQCQ",
        "outputId": "78bdf52e-626a-4b61-d057-185c2c3877fe"
      },
      "source": [
        "#solution for 2nd question\n",
        "class Rectangle:\n",
        "    def __init__(self):\n",
        "        self.length = 0\n",
        "        self.width = 0\n",
        "\n",
        "    def setData(self, length, width):\n",
        "        self.length = length\n",
        "        self.width = width\n",
        "    \n",
        "    def calcArea(self):\n",
        "        return self.length * self.width\n",
        "\n",
        "class RectangeP:\n",
        "    def __init__(self, length, width):\n",
        "        self.length = length\n",
        "        self.width = width\n",
        "\n",
        "    def calcArea(self):\n",
        "        return self.length * self.width\n",
        "\n",
        "r1 = Rectangle()\n",
        "r1.setData(10, 20)\n",
        "print(f\"Area of default constructor rectange : {r1.calcArea()}\")\n",
        "r2 = RectangeP(30, 40)\n",
        "print(f\"Area of parameterized constructor rectange : {r2.calcArea()}\")"
      ],
      "execution_count": null,
      "outputs": [
        {
          "output_type": "stream",
          "name": "stdout",
          "text": [
            "Area of default constructor rectange : 200\n",
            "Area of parameterized constructor rectange : 1200\n"
          ]
        }
      ]
    },
    {
      "cell_type": "code",
      "metadata": {
        "colab": {
          "base_uri": "https://localhost:8080/"
        },
        "id": "xqJxWWxJLQzi",
        "outputId": "b8c08b55-809d-4e87-89dd-ce8450e76c6f"
      },
      "source": [
        "#solution for 3rd question\n",
        "class Queue:\n",
        "    def __init__(self):\n",
        "        self.queue = []\n",
        "\n",
        "    def isEmpty(self):\n",
        "        return self.queue == []\n",
        "\n",
        "    def enqueue(self, data):\n",
        "        self.queue.append(data)\n",
        "\n",
        "    def dequeue(self):\n",
        "        return self.queue.pop(0)\n",
        "\n",
        "    def displayQueue(self):\n",
        "        print(f\"Queue : {self.queue}\")\n",
        "\n",
        "    def __del__(self):\n",
        "        print(\"Queue deleted\")\n",
        "\n",
        "q = Queue()\n",
        "for i in range(0, 11):\n",
        "    q.enqueue(i)\n",
        "\n",
        "q.displayQueue()\n",
        "\n",
        "for i in range(1, 4):\n",
        "    print(f\"Value Dequeued : {q.dequeue()}\")\n",
        "\n",
        "q.displayQueue()"
      ],
      "execution_count": null,
      "outputs": [
        {
          "output_type": "stream",
          "name": "stdout",
          "text": [
            "Queue : [0, 1, 2, 3, 4, 5, 6, 7, 8, 9, 10]\n",
            "Value Dequeued : 0\n",
            "Value Dequeued : 1\n",
            "Value Dequeued : 2\n",
            "Queue : [3, 4, 5, 6, 7, 8, 9, 10]\n"
          ]
        }
      ]
    }
  ]
}