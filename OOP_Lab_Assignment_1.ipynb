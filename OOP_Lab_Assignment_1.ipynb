{
  "nbformat": 4,
  "nbformat_minor": 0,
  "metadata": {
    "colab": {
      "name": "OOP Lab Assignment 1",
      "provenance": [],
      "collapsed_sections": [],
      "authorship_tag": "ABX9TyMPXzOBvrnGMxMlFsFodf/D",
      "include_colab_link": true
    },
    "kernelspec": {
      "name": "python3",
      "display_name": "Python 3"
    },
    "language_info": {
      "name": "python"
    }
  },
  "cells": [
    {
      "cell_type": "markdown",
      "metadata": {
        "id": "view-in-github",
        "colab_type": "text"
      },
      "source": [
        "<a href=\"https://colab.research.google.com/github/Shubh-Bindal/OOP-Lab-Assignments/blob/main/OOP_Lab_Assignment_1.ipynb\" target=\"_parent\"><img src=\"https://colab.research.google.com/assets/colab-badge.svg\" alt=\"Open In Colab\"/></a>"
      ]
    },
    {
      "cell_type": "markdown",
      "metadata": {
        "id": "YdSqFH_2Q66x"
      },
      "source": [
        "# OOP LAB ASSIGNMENT-1\n",
        "Submitted by:\n",
        "\n",
        "\n",
        "*   **Shubh Bindal**\n",
        "*  **20BCS121**\n",
        "\n",
        "Under the Guidance of:\n",
        "\n",
        "\n",
        "*   Shankar Biradar Sir\n",
        "\n"
      ]
    },
    {
      "cell_type": "code",
      "metadata": {
        "colab": {
          "base_uri": "https://localhost:8080/"
        },
        "id": "TGRK73ZSH2vz",
        "outputId": "4de756ec-e987-48a8-8ac9-dda962901ac9"
      },
      "source": [
        "#Problem-1\n",
        "def isLeap(year):\n",
        "  if year%4==0  :\n",
        "    if year%100==0:\n",
        "      if year%400==0:\n",
        "        return True\n",
        "      else:\n",
        "        return False\n",
        "    else:\n",
        "      return False\n",
        "  else:\n",
        "    return False\n",
        "\n",
        "year=int(input())\n",
        "ans=isLeap(year)\n",
        "print(ans)\n",
        "year=int(input())\n",
        "ans=isLeap(year)\n",
        "print(ans)"
      ],
      "execution_count": null,
      "outputs": [
        {
          "output_type": "stream",
          "name": "stdout",
          "text": [
            "2000\n",
            "True\n",
            "2100\n",
            "False\n"
          ]
        }
      ]
    },
    {
      "cell_type": "code",
      "metadata": {
        "colab": {
          "base_uri": "https://localhost:8080/"
        },
        "id": "9LjQqo2mLMx2",
        "outputId": "3a044e30-064e-4a21-e438-92e1f5b99f09"
      },
      "source": [
        "#Problem-2\n",
        "n=int(input())\n",
        "if n%2!=0:\n",
        "  print(\"Weird\")\n",
        "elif n%2==0 and n>=2 and n<=5:\n",
        "  print(\"Not Weird\") \n",
        "elif n%2==0 and n>=6 and n<=20:\n",
        "  print(\"Weird\")\n",
        "elif n%2==0 and n>20:\n",
        "  print(\"Not Weird\")"
      ],
      "execution_count": null,
      "outputs": [
        {
          "output_type": "stream",
          "name": "stdout",
          "text": [
            "23\n",
            "Weird\n"
          ]
        }
      ]
    },
    {
      "cell_type": "code",
      "metadata": {
        "colab": {
          "base_uri": "https://localhost:8080/"
        },
        "id": "33kAyFRrOJua",
        "outputId": "dc920617-56cf-4529-f71f-54bd33c0cc9c"
      },
      "source": [
        "#Problem-3\n",
        "def is_fashionably_late(party_attendees,person):\n",
        "  size=len(party_attendees)\n",
        "  \n",
        "  i=party_attendees.index(person)\n",
        "  if i>=(size/2) and i!=size-1:\n",
        "    return True\n",
        "  else:\n",
        "    return False\n",
        "\n",
        "\n",
        "Arrivals = ['Hardik', 'Rahul', 'Virat', 'Rishabh' , 'Mahi' ,'Rohit', 'Rahae']\n",
        "name=input(\"enter the guest's name\\n\")\n",
        "print(is_fashionably_late(Arrivals,name))\n",
        "name=input(\"enter the guest's name\\n\")\n",
        "is_fashionably_late(Arrivals,name)"
      ],
      "execution_count": null,
      "outputs": [
        {
          "name": "stdout",
          "output_type": "stream",
          "text": [
            "enter the guest's name\n",
            "Rahae\n",
            "False\n",
            "enter the guest's name\n",
            "Mahi\n"
          ]
        },
        {
          "output_type": "execute_result",
          "data": {
            "text/plain": [
              "True"
            ]
          },
          "metadata": {},
          "execution_count": 23
        }
      ]
    },
    {
      "cell_type": "code",
      "metadata": {
        "colab": {
          "base_uri": "https://localhost:8080/"
        },
        "id": "OQqoo2I4m0j5",
        "outputId": "d4c70f6f-332b-4831-a797-f9a9838dd564"
      },
      "source": [
        "#Problem-4\n",
        "def filter(list1,word):\n",
        "  available=False\n",
        "  for i in range(0,len(list1)):  \n",
        "    temp=list1[i].split()\n",
        "    for j in range(0,len(temp)):\n",
        "        if word==temp[j] or word.capitalize()==temp[j]:\n",
        "          print(' '.join(temp))\n",
        "          available=True\n",
        "  if i==len(list1)-1 and available==False:\n",
        "    print(\"Not Present\")    \n",
        "doc_list = [\"The Learn Python Challenge Rohit\", \"They bought a car\", \"bangalore\",\" the challenge is accepted\"]\n",
        "key=input(\"Enter keyword to be searched\\n\")\n",
        "filter(doc_list,key)"
      ],
      "execution_count": 13,
      "outputs": [
        {
          "output_type": "stream",
          "name": "stdout",
          "text": [
            "Enter keyword to be searched\n",
            "new\n",
            "Not Present\n"
          ]
        }
      ]
    },
    {
      "cell_type": "code",
      "metadata": {
        "colab": {
          "base_uri": "https://localhost:8080/"
        },
        "id": "qWsayVXLoeWf",
        "outputId": "b2b7e4e6-18cd-49be-ffa3-617f60491c2b"
      },
      "source": [
        "#Problem-5\n",
        "def gross_pay(bp):\n",
        "  da=0.4*bp\n",
        "  hra=0.2*bp\n",
        "  total=da+hra+bp\n",
        "  return total\n",
        "bp=int(input(\"Enter the Basic Pay\\n\"))\n",
        "gp=gross_pay(bp)\n",
        "print(\"Gross pay is %f\"%gp)"
      ],
      "execution_count": 15,
      "outputs": [
        {
          "output_type": "stream",
          "name": "stdout",
          "text": [
            "Enter the Basic Pay\n",
            "1000\n",
            "Gross pay is 1600.000000\n"
          ]
        }
      ]
    }
  ]
}