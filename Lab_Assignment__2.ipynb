{
  "nbformat": 4,
  "nbformat_minor": 0,
  "metadata": {
    "colab": {
      "name": "Lab_Assignment _2",
      "provenance": [],
      "authorship_tag": "ABX9TyOufGB8e9no0xCLQnfgbuyR",
      "include_colab_link": true
    },
    "kernelspec": {
      "name": "python3",
      "display_name": "Python 3"
    },
    "language_info": {
      "name": "python"
    }
  },
  "cells": [
    {
      "cell_type": "markdown",
      "metadata": {
        "id": "view-in-github",
        "colab_type": "text"
      },
      "source": [
        "<a href=\"https://colab.research.google.com/github/Shubh-Bindal/OOP-Lab-Assignments/blob/main/Lab_Assignment__2.ipynb\" target=\"_parent\"><img src=\"https://colab.research.google.com/assets/colab-badge.svg\" alt=\"Open In Colab\"/></a>"
      ]
    },
    {
      "cell_type": "code",
      "metadata": {
        "id": "AH9ZqLHBiHyf",
        "colab": {
          "base_uri": "https://localhost:8080/"
        },
        "outputId": "39af120d-ed6e-4f1f-a485-ae23f36d0272"
      },
      "source": [
        "#Problem-1\n",
        "import math\n",
        "class circle:\n",
        "  radius=0\n",
        "  def __init__(self,radius):\n",
        "    self.radius=radius\n",
        "  def calculate_area(self):\n",
        "    area=math.pi*(self.radius**2)\n",
        "    return area\n",
        "  def calculate_perimeter(self):\n",
        "    perimeter=2*math.pi*self.radius\n",
        "    return perimeter\n",
        "c1=circle(10)\n",
        "print(c1.calculate_area())\n",
        "print(c1.calculate_perimeter())"
      ],
      "execution_count": null,
      "outputs": [
        {
          "output_type": "stream",
          "name": "stdout",
          "text": [
            "314.1592653589793\n",
            "62.83185307179586\n"
          ]
        }
      ]
    },
    {
      "cell_type": "code",
      "metadata": {
        "colab": {
          "base_uri": "https://localhost:8080/"
        },
        "id": "-ARUOMS3vcJH",
        "outputId": "3f80290c-539b-47b5-ddb2-c3dabb694a55"
      },
      "source": [
        "#Problem-2\n",
        "name=[]\n",
        "for i in range(5):\n",
        "  ele=input(\"Enter the {} Teacher's name \".format(i+1))\n",
        "  name.append(ele)\n",
        "employee_id=[]\n",
        "for i in range(5):\n",
        "  ele=input(\"Enter the {} Teacher's employee id \".format(i+1))\n",
        "  employee_id.append(ele)\n",
        "branch=[]\n",
        "for i in range(5):\n",
        "  ele=input(\"Enter the {} Teacher's branch \".format(i+1))\n",
        "  branch.append(ele)\n",
        "salary=[]\n",
        "for i in range(5):\n",
        "  ele=input(\"Enter the {} Teacher's salary \".format(i+1))\n",
        "  salary.append(ele)\n"
      ],
      "execution_count": null,
      "outputs": [
        {
          "name": "stdout",
          "output_type": "stream",
          "text": [
            "Enter the 1 Teacher's name Helen\n",
            "Enter the 2 Teacher's name Kia\n",
            "Enter the 3 Teacher's name Bucky\n",
            "Enter the 4 Teacher's name ALex\n",
            "Enter the 5 Teacher's name Alan\n",
            "Enter the 1 Teacher's employee id 5124\n",
            "Enter the 2 Teacher's employee id 1452\n",
            "Enter the 3 Teacher's employee id 7458\n",
            "Enter the 4 Teacher's employee id 5684\n",
            "Enter the 5 Teacher's employee id 7854\n",
            "Enter the 1 Teacher's branch Cse\n",
            "Enter the 2 Teacher's branch cse\n",
            "Enter the 3 Teacher's branch cse\n",
            "Enter the 4 Teacher's branch dsai\n",
            "Enter the 5 Teacher's branch ece\n",
            "Enter the 1 Teacher's salary 54365\n",
            "Enter the 2 Teacher's salary 45654\n",
            "Enter the 3 Teacher's salary 32534\n",
            "Enter the 4 Teacher's salary 15135\n",
            "Enter the 5 Teacher's salary 1531\n"
          ]
        }
      ]
    },
    {
      "cell_type": "code",
      "metadata": {
        "colab": {
          "base_uri": "https://localhost:8080/"
        },
        "id": "53xGyHCKzJT2",
        "outputId": "26a08e75-911c-42f7-9393-6fd28d70771b"
      },
      "source": [
        "#Problem-3\n",
        "class account:\n",
        "  account_number=[]\n",
        "  account_holder_name=[]\n",
        "  amount=[]\n",
        "\n",
        "  def __init__(self,number,name,amount):\n",
        "    (self.account_number).append(number)\n",
        "    (self.account_holder_name).append(name)\n",
        "    (self.amount).append(amount)\n",
        "\n",
        "  def deposit(self,number,amount):\n",
        "    found=False\n",
        "    for i in range(len(self.account_number)):\n",
        "      if self.account_number[i]==number:\n",
        "        self.amount[i]=self.amount[i]+amount\n",
        "        print(\"Amount deposited\")\n",
        "        found=True\n",
        "    if found==False:\n",
        "      print(\"Invalid Number\")\n",
        "  \n",
        "  def withdraw(self,number,amount):\n",
        "    found=False\n",
        "    for i in range(len(self.account_number)):\n",
        "      if self.account_number[i]==number:\n",
        "        self.amount[i]=self.amount[i]-amount\n",
        "        print(\"Amount withdrew\")\n",
        "        found=True\n",
        "    if found==False:\n",
        "      print(\"Invalid Number\")\n",
        "\n",
        "  def check_balance(self,number):\n",
        "    for i in range(len(account_number)):\n",
        "      if self.account_number[i]==number:\n",
        "        print(self.amount[i])\n",
        "\n",
        "  def display_account_details(self,number):\n",
        "    found=False\n",
        "    for i in range(len(self.account_number)):\n",
        "      if self.account_number[i]==number:\n",
        "        print(self.account_holder_name[i])\n",
        "        print(self.account_number[i])\n",
        "        print(self.amount[i])    \n",
        "        found=True\n",
        "    if found==False:\n",
        "      print(\"Invalid Number\")\n",
        "\n",
        "user1=account(1,'alex',100)\n",
        "user2=account(2,'peter',200)\n",
        "user2.check_balance(2)\n",
        "user1.deposit(1,100)\n",
        "user1.check_balance(1)\n",
        "user1.withdraw(1,100)\n",
        "user1.check_balance(1)\n",
        "user1.display_account_details(1)\n",
        "user2.display_account_details(2)"
      ],
      "execution_count": null,
      "outputs": [
        {
          "output_type": "stream",
          "name": "stdout",
          "text": [
            "200\n",
            "Amount deposited\n",
            "200\n",
            "Amount withdrew\n",
            "100\n",
            "alex\n",
            "1\n",
            "100\n",
            "peter\n",
            "2\n",
            "200\n"
          ]
        }
      ]
    },
    {
      "cell_type": "code",
      "metadata": {
        "colab": {
          "base_uri": "https://localhost:8080/"
        },
        "id": "HIRPmkaQxwvD",
        "outputId": "687a4e5e-80d3-4657-b628-5681fbaa05e4"
      },
      "source": [
        "#Problem-4\n",
        "class student:\n",
        "  name=[]\n",
        "  usn=[]\n",
        "  subject1_marks=[]\n",
        "  subject2_marks=[]\n",
        "  subject3_marks=[]\n",
        "\n",
        "  def __init__(self,name,usn,marks1,marks2,marks3):\n",
        "    self.name.append(name)\n",
        "    self.usn.append(usn)\n",
        "    self.subject1_marks.append(marks1)\n",
        "    self.subject2_marks.append(marks2)\n",
        "    self.subject3_marks.append(marks3)\n",
        "\n",
        "  def display_details(self,usn):\n",
        "    found=False\n",
        "    for i in range(len(self.usn)):\n",
        "      if self.usn[i]==usn:\n",
        "        print(\"Name:{}\".format(self.name[i]))\n",
        "        print(\"USN:{}\".format(self.usn[i]))\n",
        "        print(\"Subject 1 marks:{}\".format(self.subject1_marks[i]))\n",
        "        print(\"Subject 2 marks:{}\".format(self.subject2_marks[i]))\n",
        "        print(\"Subject 3 marks:{}\".format(self.subject3_marks[i]))\n",
        "        print(\"Total marks:{}\".format(self.subject1_marks[i]+self.subject2_marks[i]+self.subject3_marks[i]))\n",
        "        found=True\n",
        "    if found==False:\n",
        "      print(\"Invalid Number\")\n",
        "\n",
        "student1=student(\"alan\",145,25,54,78)\n",
        "student2=student(\"peter\",154,58,87,98)\n",
        "student1.display_details(145)\n",
        "print()\n",
        "student2.display_details(154)"
      ],
      "execution_count": null,
      "outputs": [
        {
          "output_type": "stream",
          "name": "stdout",
          "text": [
            "Name:alan\n",
            "USN:145\n",
            "Subject 1 marks:25\n",
            "Subject 2 marks:54\n",
            "Subject 3 marks:78\n",
            "Total marks:157\n",
            "\n",
            "Name:peter\n",
            "USN:154\n",
            "Subject 1 marks:58\n",
            "Subject 2 marks:87\n",
            "Subject 3 marks:98\n",
            "Total marks:243\n"
          ]
        }
      ]
    },
    {
      "cell_type": "code",
      "metadata": {
        "id": "zsVpG4H8KK93",
        "colab": {
          "base_uri": "https://localhost:8080/"
        },
        "outputId": "bcc64f99-7c1e-49f4-d56d-3351895e86ff"
      },
      "source": [
        "#Problem-5\n",
        "class hospital:\n",
        "  name=[]\n",
        "  date_of_admission=[]\n",
        "  symptoms=[]\n",
        "  oxygen_level=[]\n",
        "  date_of_discharge=[]\n",
        "  general_ward=[]\n",
        "  oxygen_support=[]\n",
        "\n",
        "  def __init__(self,name,date_of_admission,list_of_symptoms,oxygen_level,date_of_discharge):\n",
        "    self.name.append(name)\n",
        "    self.date_of_admission.append(date_of_admission)\n",
        "    self.symptoms.append(list_of_symptoms)\n",
        "    self.oxygen_level.append(oxygen_level)\n",
        "    self.date_of_admission.append(date_of_discharge)\n",
        "\n",
        "  def check_severity(self,name):\n",
        "    for i in range(len(self.name)):\n",
        "      if self.name[i]==name:\n",
        "        if self.oxygen_level[i]<90:\n",
        "          self.oxygen_support.append(name)\n",
        "        else:\n",
        "          self.general_ward.append(name)\n",
        "\n",
        "  def oxygen_support_required(self):\n",
        "    print(len(self.oxygen_support))\n",
        "\n",
        "  def general_ward_strength(self):\n",
        "    print(len(self.general_ward))\n",
        "\n",
        "  def total_patients(self):\n",
        "    print(len(self.name))\n",
        "\n",
        "\n",
        "list1=['anameia','headache','cholestrol']\n",
        "list2=['vitmainB-deficiency','stomache']\n",
        "pa1=hospital('alan',12,list1,96,25)\n",
        "pa2=hospital('alex',14,list2,85,15)\n",
        "pa3=hospital('gwen',14,list2,75,15)\n",
        "pa1.check_severity('alan')\n",
        "pa2.check_severity('alex')\n",
        "pa3.check_severity('gwen')\n",
        "pa2.oxygen_support_required()\n",
        "pa2.general_ward_strength()\n",
        "pa2.total_patients()"
      ],
      "execution_count": null,
      "outputs": [
        {
          "output_type": "stream",
          "name": "stdout",
          "text": [
            "2\n",
            "1\n",
            "3\n"
          ]
        }
      ]
    },
    {
      "cell_type": "code",
      "metadata": {
        "id": "3UM7CE9qIjWw",
        "colab": {
          "base_uri": "https://localhost:8080/"
        },
        "outputId": "1681855d-bd28-4d95-b4db-ffe6cc0802d7"
      },
      "source": [
        "#Problem-6\n",
        "class time:\n",
        "  def __init__(self):\n",
        "    hours=0\n",
        "    minutes=0\n",
        "    second=0\n",
        "  def set_time(self,hours,minutes,seconds):\n",
        "    self.hours=hours\n",
        "    self.minutes=minutes\n",
        "    self.seconds=seconds\n",
        "  def display_time(self):\n",
        "    print(\"Time is {}:{}:{}\".format(self.hours,self.minutes,self.seconds))\n",
        "t1=time()\n",
        "t1.set_time(6,36,40)\n",
        "t1.display_time()"
      ],
      "execution_count": null,
      "outputs": [
        {
          "output_type": "stream",
          "name": "stdout",
          "text": [
            "Time is 6:36:40\n"
          ]
        }
      ]
    },
    {
      "cell_type": "code",
      "metadata": {
        "id": "5pW2svzwAg7O",
        "colab": {
          "base_uri": "https://localhost:8080/"
        },
        "outputId": "db50881a-264f-48d5-dc7e-42a7e38f01f9"
      },
      "source": [
        "#Problem-7\n",
        "class student:\n",
        "  name=[]\n",
        "  age=[]\n",
        "  rollnumber=[]\n",
        "  def __init__(self,name,age,rollnumber):\n",
        "    self.name.append(name)\n",
        "    self.age.append(age)\n",
        "    self.rollnumber.append(rollnumber)\n",
        "  def compare_age(self):\n",
        "    if self.age[0]==self.age[1]:\n",
        "      print(\"They are of same age\")\n",
        "    else:\n",
        "      print(\"They are of different age\")\n",
        "\n",
        "std1=student(\"Rahul\",21,33)\n",
        "std2=student(\"Rohit\",22,74)\n",
        "std1.compare_age()"
      ],
      "execution_count": 12,
      "outputs": [
        {
          "output_type": "stream",
          "name": "stdout",
          "text": [
            "They are of different age\n"
          ]
        }
      ]
    },
    {
      "cell_type": "code",
      "metadata": {
        "id": "3iQ00Vj4A5O9",
        "colab": {
          "base_uri": "https://localhost:8080/"
        },
        "outputId": "6f8faf61-9851-49e5-fa1a-9f005475bc02"
      },
      "source": [
        "#Problem-8\n",
        "class Student:\n",
        "  institute = \"IIIT Dharwad\"\n",
        "  semester = 3\n",
        "  def __init__(self, name, USN):\n",
        "    self.name = name\n",
        "    self.USN = USN\n",
        "\n",
        "  def printInstance(self):\n",
        "    print(\"Name:\", self.name + \",\", \"USN:\", self.USN, '\\n')\n",
        "  \n",
        "  def printClass(self):\n",
        "    print(\"Institute name:\", self.institute +\",\", \"Semester:\", self.semester,'\\n')\n",
        "\n",
        "def explanation():\n",
        "  print(\"The class has 2 class variables - institute and semester, 2 instance variables - name and USN, 1 class method - printClass and 1 instance method - printInstance. Instance methods use the instance variables, whereas class methods use the class variables.\")\n",
        "\n",
        "std1 = Student(\"Rohan\", 123654)\n",
        "std1.printClass()\n",
        "std1.printInstance()\n",
        "explanation()"
      ],
      "execution_count": 7,
      "outputs": [
        {
          "output_type": "stream",
          "name": "stdout",
          "text": [
            "Institute name: IIIT Dharwad, Semester: 3 \n",
            "\n",
            "Name: Rohan, USN: 123654 \n",
            "\n",
            "The class has 2 class variables - institute and semester, 2 instance variables - name and USN, 1 class method - printClass and 1 instance method - printInstance. Instance methods use the instance variables, whereas class methods use the class variables.\n"
          ]
        }
      ]
    },
    {
      "cell_type": "code",
      "metadata": {
        "colab": {
          "base_uri": "https://localhost:8080/"
        },
        "id": "c7ZzBj3GBWzQ",
        "outputId": "7abcef34-4e86-432f-a16b-7897fb806ab7"
      },
      "source": [
        "#Problem-9\n",
        "class Student:\n",
        "  class Laptop:\n",
        "    def __init__(self, CPU, RAM, hardDisk):\n",
        "      self.CPU = CPU\n",
        "      self.RAM = RAM\n",
        "      self.hardDisk = hardDisk\n",
        "  def __init__(self, name, roll, sem):\n",
        "    self.name = name\n",
        "    self.roll = roll\n",
        "    self.sem = sem\n",
        "    n = int(input(\"How many laptops does {0} have?\\n\".format(self.name)))\n",
        "    self.laptops = []\n",
        "    for i in range(0,n):\n",
        "      CPU = input(\"Enter CPU information for laptop {0}: \".format(i+1))\n",
        "      RAM = input(\"Enter RAM for laptop {0}: \".format(i+1))\n",
        "      hardDisk = input(\"Enter Hard Disk drive information for laptop {0}: \".format(i+1))\n",
        "      laptop = self.Laptop(CPU, RAM, hardDisk)\n",
        "      self.laptops.append(laptop)\n",
        "      print()\n",
        "\n",
        "  def displayDetails(self):\n",
        "    print(\"Student name:\", self.name+',', \"Roll no.:\", str(self.roll) + ',', \"Semester:\", self.sem, '\\n')\n",
        "    print(\"LAPTOP INFORMATION\")\n",
        "    j = 1\n",
        "    for i in self.laptops:\n",
        "      print(\"{0}. CPU:\".format(j), i.CPU + ',', \"RAM:\", i.RAM + ',', 'Hard Disk:', i.hardDisk)\n",
        "      j+=1\n",
        "\n",
        "std = Student('Joash', 1, 3)\n",
        "std.displayDetails()"
      ],
      "execution_count": 8,
      "outputs": [
        {
          "output_type": "stream",
          "name": "stdout",
          "text": [
            "How many laptops does Joash have?\n",
            "2\n",
            "Enter CPU information for laptop 1: 8gb\n",
            "Enter RAM for laptop 1: 16gb\n",
            "Enter Hard Disk drive information for laptop 1: 1tb\n",
            "\n",
            "Enter CPU information for laptop 2: 15vd5402\n",
            "Enter RAM for laptop 2: 8gb\n",
            "Enter Hard Disk drive information for laptop 2: 522ssd\n",
            "\n",
            "Student name: Joash, Roll no.: 1, Semester: 3 \n",
            "\n",
            "LAPTOP INFORMATION\n",
            "1. CPU: 8gb, RAM: 16gb, Hard Disk: 1tb\n",
            "2. CPU: 15vd5402, RAM: 8gb, Hard Disk: 522ssd\n"
          ]
        }
      ]
    }
  ]
}